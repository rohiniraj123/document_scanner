{
 "cells": [
  {
   "cell_type": "code",
   "execution_count": 4,
   "metadata": {},
   "outputs": [
    {
     "name": "stdout",
     "output_type": "stream",
     "text": [
      "Step 1: Edge detection\n",
      "Step 2: Find contours of paper\n",
      "STEP 3: Apply perspective transform\n"
     ]
    },
    {
     "data": {
      "text/plain": [
       "-1"
      ]
     },
     "execution_count": 4,
     "metadata": {},
     "output_type": "execute_result"
    }
   ],
   "source": [
    "# import the necessary packages\n",
    "from imutils.perspective import four_point_transform\n",
    "from imutils import contours\n",
    "import numpy as np\n",
    "import imutils\n",
    "import cv2\n",
    "import matplotlib.pyplot as plt\n",
    "import argparse\n",
    "\n",
    "# load the image & resize it so as to speedup image processing, as well as make edge detection step more accurate\n",
    "img = cv2.imread('omr_test_01.png')\n",
    "ratio = img.shape[0]/500           # scaling the height to 500px\n",
    "orig = img.copy()\n",
    "img = imutils.resize(img, height=500)\n",
    "\n",
    "# convert the image to grayscale, blur it & find its edges\n",
    "gray_img = cv2.cvtColor(img,cv2.COLOR_BGR2GRAY)\n",
    "gray_img = cv2.GaussianBlur(gray_img, (5,5), 0)   # kernel_size = (5,5) +ve & odd std deviaton sigmaX=0, sigmaY if not defined equal to sigmaX\n",
    "edged_img = cv2.Canny(gray_img, 75, 200)         # minVal=75, intensity grad below it are non edges & maxVal=200, above it are surely edges\n",
    "\n",
    "# show the original image and edged image\n",
    "print('Step 1: Edge detection')\n",
    "cv2.imshow('Original', img)\n",
    "cv2.imshow('Edged', edged_img)\n",
    "cv2.waitKey(0)\n",
    "cv2.destroyAllWindows()\n",
    "\n",
    "# find contours in the edge map, then initialize the contour that corresponds to the document\n",
    "cnts = cv2.findContours(edged_img.copy(), cv2.RETR_EXTERNAL, cv2.CHAIN_APPROX_SIMPLE)\n",
    "cnts = imutils.grab_contours(cnts)\n",
    "docCnt = None\n",
    "# sort the contours in descending order\n",
    "if len(cnts)>0:\n",
    "    cnts = sorted(cnts, key=cv2.contourArea, reverse=True)\n",
    "    # approximate the contours\n",
    "    for i in cnts:\n",
    "        peri = cv2.arcLength(i, True)\n",
    "        epsilon = 0.02*peri\n",
    "        approx = cv2.approxPolyDP(i, epsilon, True)\n",
    "        # if approximated contour has 4 vertices then we can assume that we have found the paper\n",
    "        if len(approx)==4:\n",
    "            docCnt = approx\n",
    "            break\n",
    "\n",
    "print('Step 2: Find contours of paper')\n",
    "cv2.drawContours(img, [docCnt], -1, (0, 255, 0), 2)\n",
    "cv2.imshow(\"Outline\", img)\n",
    "cv2.waitKey(0)\n",
    "cv2.destroyAllWindows()\n",
    "\n",
    "# apply the four point transform to obtain a top-down view of the original image\n",
    "warped = four_point_transform(orig, docCnt.reshape(4, 2) * ratio)\n",
    "# convert the warped image to grayscale, then threshold it to give it 'black and white' paper effect\n",
    "warped = cv2.cvtColor(warped, cv2.COLOR_BGR2GRAY)\n",
    "T = cv2.threshold(warped,0,255,\n",
    "                      cv2.THRESH_BINARY_INV + cv2.THRESH_OTSU)[1]\n",
    "warped = (warped > T).astype(\"uint8\") * 255\n",
    "# show the original and scanned images\n",
    "print(\"STEP 3: Apply perspective transform\")\n",
    "cv2.imshow(\"Original\", imutils.resize(orig, height = 650))\n",
    "cv2.imshow(\"Scanned\", imutils.resize(warped, height = 650))\n",
    "cv2.waitKey(0)"
   ]
  },
  {
   "cell_type": "code",
   "execution_count": null,
   "metadata": {},
   "outputs": [],
   "source": []
  }
 ],
 "metadata": {
  "kernelspec": {
   "display_name": "Python 3",
   "language": "python",
   "name": "python3"
  },
  "language_info": {
   "codemirror_mode": {
    "name": "ipython",
    "version": 3
   },
   "file_extension": ".py",
   "mimetype": "text/x-python",
   "name": "python",
   "nbconvert_exporter": "python",
   "pygments_lexer": "ipython3",
   "version": "3.6.10"
  }
 },
 "nbformat": 4,
 "nbformat_minor": 4
}
